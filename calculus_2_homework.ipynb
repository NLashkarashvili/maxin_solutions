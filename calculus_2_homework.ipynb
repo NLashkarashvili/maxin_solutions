{
  "nbformat": 4,
  "nbformat_minor": 0,
  "metadata": {
    "kernelspec": {
      "display_name": "Python 3",
      "language": "python",
      "name": "python3"
    },
    "language_info": {
      "codemirror_mode": {
        "name": "ipython",
        "version": 3
      },
      "file_extension": ".py",
      "mimetype": "text/x-python",
      "name": "python",
      "nbconvert_exporter": "python",
      "pygments_lexer": "ipython3",
      "version": "3.7.2"
    },
    "colab": {
      "name": "calculus-2-homework.ipynb",
      "provenance": [],
      "include_colab_link": true
    }
  },
  "cells": [
    {
      "cell_type": "markdown",
      "metadata": {
        "id": "view-in-github",
        "colab_type": "text"
      },
      "source": [
        "<a href=\"https://colab.research.google.com/github/NLashkarashvili/maxin_solutions/blob/master/calculus_2_homework.ipynb\" target=\"_parent\"><img src=\"https://colab.research.google.com/assets/colab-badge.svg\" alt=\"Open In Colab\"/></a>"
      ]
    },
    {
      "cell_type": "markdown",
      "metadata": {
        "id": "TjX5UoOG2ea6",
        "colab_type": "text"
      },
      "source": [
        "#### AUTHOR Nineli Lashkarashvili"
      ]
    },
    {
      "cell_type": "code",
      "metadata": {
        "id": "5p_Xu2V92ea_",
        "colab_type": "code",
        "colab": {}
      },
      "source": [
        "%load_ext autoreload\n",
        "%autoreload 2\n",
        "\n",
        "%matplotlib inline"
      ],
      "execution_count": 0,
      "outputs": []
    },
    {
      "cell_type": "markdown",
      "metadata": {
        "id": "9chiSa9F2ebG",
        "colab_type": "text"
      },
      "source": [
        "## Basic setup"
      ]
    },
    {
      "cell_type": "markdown",
      "metadata": {
        "id": "ZfShOLO_2ebI",
        "colab_type": "text"
      },
      "source": [
        "Create anaconda environment\n",
        "<br>\n",
        "```bash\n",
        "conda create -n ml python=3.7.4 jupyter\n",
        "```\n",
        "Install fastai library\n",
        "<br>\n",
        "```bash\n",
        "conda install -c pytorch -c fastai fastai\n",
        "```"
      ]
    },
    {
      "cell_type": "markdown",
      "metadata": {
        "id": "ijtPMjkH2ebJ",
        "colab_type": "text"
      },
      "source": [
        "# Derivatives"
      ]
    },
    {
      "cell_type": "markdown",
      "metadata": {
        "id": "alIfN9RQ2ebL",
        "colab_type": "text"
      },
      "source": [
        "#### Example: (Prove that it has partial derivative but is not differentiable)\n",
        "$$f(x,y) = \\begin{cases}x & \\text{if }y \\ne x^2 \\\\ 0 & \\text{if }y = x^2\\end{cases}$$"
      ]
    },
    {
      "cell_type": "markdown",
      "metadata": {
        "id": "xvaxnWjE2ebN",
        "colab_type": "text"
      },
      "source": [
        "#### Proved\n",
        "- $f_x(0,0) = 1$ $f_x(x,y) = f_x(x,0) = x$ and derivative with respect to x is 1.\n",
        "- $f_y(0,0) = 0$ Hence partial derivatives of these functions aren't equal at the origin therefore the function isn't differentiable at this point."
      ]
    },
    {
      "cell_type": "markdown",
      "metadata": {
        "id": "oR5BdRCO2ebO",
        "colab_type": "text"
      },
      "source": [
        "#### Example: (Prove that it has partial derivative but isn't differentiable)\n",
        "$$f(x,y) = \\begin{cases}y^3/(x^2+y^2) & \\text{if }(x,y) \\ne (0,0) \\\\ 0 & \\text{if }(x,y) = (0,0)\\end{cases}$$"
      ]
    },
    {
      "cell_type": "markdown",
      "metadata": {
        "id": "QnK2DluI2ebQ",
        "colab_type": "text"
      },
      "source": [
        "#### Proved \n",
        "- On the x axis we have $ \\frac 0{(x^2 + 0^2)} = 0$ therefore partial derivative exists and along x axis - $f_x(0,0) = 0$.\n",
        "- On the y axis we have $ \\frac {y^3} {(0^2 + y^2)} = y$ therefore partial derivative exists along y axis $f_y(0,0) = 1$. \n",
        "- These partial derivatives aren't equal therefore function can't be differentiable at point(0,0).\n",
        "- Thise can be proved using polar coordinates as well - $f(x,y) \\to g(r, \\theta)$ were $x = rcos(\\theta), y = rsin(\\theta)$. $$g(r,\\theta) = \\begin{cases}rsin^3(\\theta) & \\text{if }r \\ne 0 \\\\ 0 & \\text{if } r =0\\end{cases}$$\n",
        "if $\\theta$ is multiple of $\\pi$ then function equals to zero (positive x, y-directions and negative x,y-directions). For other values of theta we have nonzero value for $rsin^3(\\theta)$ except when r = 0 where function unexpectedly jumps to 0, along this direction function isn't differentiable."
      ]
    }
  ]
}