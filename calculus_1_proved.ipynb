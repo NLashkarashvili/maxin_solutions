{
  "nbformat": 4,
  "nbformat_minor": 0,
  "metadata": {
    "kernelspec": {
      "display_name": "Python 3",
      "language": "python",
      "name": "python3"
    },
    "language_info": {
      "codemirror_mode": {
        "name": "ipython",
        "version": 3
      },
      "file_extension": ".py",
      "mimetype": "text/x-python",
      "name": "python",
      "nbconvert_exporter": "python",
      "pygments_lexer": "ipython3",
      "version": "3.7.2"
    },
    "colab": {
      "name": "calculus_1_proved.ipynb",
      "provenance": [],
      "collapsed_sections": [],
      "include_colab_link": true
    }
  },
  "cells": [
    {
      "cell_type": "markdown",
      "metadata": {
        "id": "view-in-github",
        "colab_type": "text"
      },
      "source": [
        "<a href=\"https://colab.research.google.com/github/NLashkarashvili/maxin_solutions/blob/master/calculus_1_proved.ipynb\" target=\"_parent\"><img src=\"https://colab.research.google.com/assets/colab-badge.svg\" alt=\"Open In Colab\"/></a>"
      ]
    },
    {
      "cell_type": "markdown",
      "metadata": {
        "id": "Euoln_NezpSA",
        "colab_type": "text"
      },
      "source": [
        "#### AUTHOR Nineli Lashkarashvili"
      ]
    },
    {
      "cell_type": "markdown",
      "metadata": {
        "id": "w3t5uuaZzpSE",
        "colab_type": "text"
      },
      "source": [
        "# Metric spaces"
      ]
    },
    {
      "cell_type": "markdown",
      "metadata": {
        "id": "cAZEZOtIzpSG",
        "colab_type": "text"
      },
      "source": [
        "#### Prove that:\n",
        "For every metric space (X, d):\n",
        "- For eny $\\mathcal{U} = \\{U | U$ is open in $(X, d)\\}$ holds $\\bigcup_{U \\in \\mathcal{U}} U$ is open in $(X, d)$\n",
        "- For eny two $U, V \\subset X$ open in $(X, d)$ holds: $U \\cap V$ is open in $(X, d)$\n",
        "- $X$ is open in $(X, d)$\n",
        "- $\\emptyset$ is open in $(X, d)$"
      ]
    },
    {
      "cell_type": "markdown",
      "metadata": {
        "id": "Yu44h02MzpSI",
        "colab_type": "text"
      },
      "source": [
        "#### Proved:\n",
        "- According to the conditions $U \\in \\mathcal{U}$ is an open in (X, d). This means that for all elements of U should exist $\\epsilon > 0$ such that $(x - \\epsilon, x + \\epsilon) \\subset U$. Therefore if we unify sets which are open in (X,d) and have their own 'epsilons' its clear that the result would consist of elements for which new epsilon will be max{$\\epsilon_{1}$, ... $\\epsilon_{n}$}. Therefore $\\bigcup_{U \\in \\mathcal{U}} U$ is open in $(X, d)$.\n",
        "- Any two U, V which is open in $(X,d)$ means that U and V have their own epsilons. The intersection of these sets would consist of elements for which $\\epsilon = max(\\epsilon_{1},\\epsilon_{2})$. Therefore $U \\cap V$ is open in $(X, d)$\n",
        "- X is open because any ball is by definition a subset of X.\n",
        "- I can provide vacuous proof for this statement. If we use the definition of opennes for all $x \\in \\emptyset$ should exist $\\epsilon > 0$ such that $(x - \\epsilon, x + \\epsilon) \\subset \\emptyset$. As no $\\emptyset$ contains element this statement can be considered vacuously true. Therefore $\\emptyset$ is open in $(X,d)$  "
      ]
    },
    {
      "cell_type": "markdown",
      "metadata": {
        "id": "9YEwx9_4zpSK",
        "colab_type": "text"
      },
      "source": [
        "#### Prove that:\n",
        "- For eny finity set $(U)_{i=1}^{n}$ of open sets in $(X, d)$, $\\bigcap_{i=1}^{n}U$ is open in $(X, d)$"
      ]
    },
    {
      "cell_type": "markdown",
      "metadata": {
        "id": "O-cfEx_dzpSL",
        "colab_type": "text"
      },
      "source": [
        "#### Proved:\n",
        "- Lets define $U_{i}$s as an open sets from 1 to n. If we have an x which belongs to $\\bigcap_{i=1}^{n}U$. In order to prove that $\\bigcap_{i=1}^{n}U$ is open in $(X, d)$ we have to find new $\\epsilon$. Then our task is to find new $\\epsilon$ for all x elements in $\\bigcap_{i=1}^{n}U$. For each $U_{i}$s we have $\\epsilon_{i}$, thus we should choose maximum of those epsilons. Our new $\\epsilon$ would be equal to max{$\\epsilon_{1}$, ... $\\epsilon_{n}$}. Therefore we have proved that $\\bigcap_{i=1}^{n}U$ is open in $(X, d)$"
      ]
    },
    {
      "cell_type": "markdown",
      "metadata": {
        "id": "kP3ee2zczpSN",
        "colab_type": "text"
      },
      "source": [
        "#### Prove that for set $U \\subset X$ is open if and only if for each point $x \\in U$ there exists the open neighbourhood $V$ of $x$ such that $V \\subset U$"
      ]
    },
    {
      "cell_type": "markdown",
      "metadata": {
        "id": "SZc2kpIyzpSP",
        "colab_type": "text"
      },
      "source": [
        "#### Proved:\n",
        "- Suppose that for some point $x \\in U$ there doesn't exist the open neighbourhood $V$ of $x$ such that $V \\subset U$. Then it means that for some $x \\in U$ we have closed neighbourhood, which according to the definition of openness is impossible.    "
      ]
    },
    {
      "cell_type": "markdown",
      "metadata": {
        "id": "7v58YMcmzpSQ",
        "colab_type": "text"
      },
      "source": [
        "#### Prove that, closed ball is closed subset in $(X, d)$"
      ]
    },
    {
      "cell_type": "markdown",
      "metadata": {
        "id": "Ze_Gt9w2zpSS",
        "colab_type": "text"
      },
      "source": [
        "#### Proved:\n",
        "- The definition of closed ball is as follows: $S(x_{0}, d) = (x \\in X: d(x_{0}, x) \\leqslant r)$. According to definiton of closed subset in (X,d) we know that it is the complement of open set. Thus $X$\\ $S(x_{0}, d)$ is an open set. Suppose that we have an open ball with center y. Then we can write that d(y, $x_{0}$) > r. Then we have d(y, $x_{0}$) - r > 0. Let's denote d(y, $x_{0}$) - r by m. Suppose that d(y, m) is contained in $X$ \\ $S(x_{0}, d)$. Know lets take $l \\in d(y, m)$. d($x_{0}, y) \\leqslant d(x_{0}, m) + d(m, y) \\to  d(x_{0}, m) \\geqslant d(x_{0}, y) - m = r$. Therefore we have proved that closed ball is closed subset in (X,d). \n"
      ]
    },
    {
      "cell_type": "markdown",
      "metadata": {
        "id": "MX94ZO2szpSU",
        "colab_type": "text"
      },
      "source": [
        "#### Prove that\n",
        "For every metric space (X, d):\n",
        "- For eny $\\mathcal{F} = \\{F | F$ is closed in $(X, d)\\}$ holds $\\bigcap_{F \\in \\mathcal{F}} F$ is closed in $(X, d)$\n",
        "- For eny two $F_1, F_2 \\subset X$ closed in $(X, d)$ holds: $F_1 \\cup F_2$ is closed in $(X, d)$\n",
        "- $X$ is closed in $(X, d)$\n",
        "- $\\emptyset$ is closed in $(X, d)$"
      ]
    },
    {
      "cell_type": "markdown",
      "metadata": {
        "id": "aWVypJPNzpSV",
        "colab_type": "text"
      },
      "source": [
        "#### Proved\n",
        "- According to the conditions $F \\in \\mathcal{F}$ is an closed in (X, d). As we know a set is considered closed if and if only its complement is open set.Lets define set A = S\\ $\\bigcap_{F \\in \\mathcal{F}} F$ then A will be equal to $\\bigcup_{F \\in \\mathcal{F}}$ S\\F. $\\bigcup_{F \\in \\mathcal{F}}$ S\\F  is open set because according to definition of closed sets S\\F is open. Therefore as $\\bigcup_{F \\in \\mathcal{F}}$ S\\F = S\\ $\\bigcap_{F \\in \\mathcal{F}} F$ then  both of them are open. Using the definition of closed set $\\bigcap_{F \\in \\mathcal{F}} F$ will be closed.\n",
        "- Any two $F_1, F_2$ which is closed in $(X,d)$ means that both of them are complements of open set. S \\ ($F_{1} \\cup F_{2})$ = S \\ $F_{1} \\cap$ S \\ $F_{2}$. According to definition of closeness we know that S \\ $F_{1}$ and S \\ $F_{2}$ are open sets and we have proved above that intersection of any two open sets is also an open set, hence  S \\ $F_{1} \\cap$ S \\ $F_{2}$ is open set and therefore S \\ ($F_{1} \\cup F_{2})$ is also open which means that $F_{1} \\cup F_{2}$ is closed.\n",
        "- We have proved above that $\\emptyset$ is open set therefore its complement will be X \\ $\\emptyset$ which is X itself. Therefore X is closed set(X is both closed and opened set).\n",
        "- We have proved above that X is open set therefore its complement should be closed set. X \\ X = $\\emptyset$ therefore $\\emptyset$ is closed set. ($\\emptyset$ is also both closed and opened set)."
      ]
    },
    {
      "cell_type": "markdown",
      "metadata": {
        "id": "lpOjvt8wzpSX",
        "colab_type": "text"
      },
      "source": [
        "#### Prove that:\n",
        "- For eny finity set $(F)_{i=1}^{n}$ of closed sets in $(X, d)$, $\\bigcup_{i=1}^{n}F$ is closed in $(X, d)$"
      ]
    },
    {
      "cell_type": "markdown",
      "metadata": {
        "id": "1RAZ7BBjzpSY",
        "colab_type": "text"
      },
      "source": [
        "#### Proved\n",
        "- $(F)_{i=1}^{n}$ are closed sets then for every S \\ $F_{i}$ we will have an opened set and $\\bigcap_{i=1}^{n}$ S \\ $F_{i}$ will be opened set. After applying this formula to DeMorgan law we will get S \\ $\\bigcup_{i=1}^{n}F$, hence S \\ $\\bigcup_{i=1}^{n}F$ is also opened set. Using the definition of closeness S \\ (S \\ $\\bigcup_{i=1}^{n}F$) should be closed. S \\ (S \\ $\\bigcup_{i=1}^{n}F$) = $\\bigcup_{i=1}^{n}F$, therefore $\\bigcup_{i=1}^{n}F is closed set. "
      ]
    },
    {
      "cell_type": "markdown",
      "metadata": {
        "id": "yxbOqnInzpSa",
        "colab_type": "text"
      },
      "source": [
        "#### Prove that, if $F \\subset X$ is closed then $X - F$ is open in $(X, d)$ "
      ]
    },
    {
      "cell_type": "markdown",
      "metadata": {
        "id": "6d4K9tv7zpSb",
        "colab_type": "text"
      },
      "source": [
        "#### Proved\n",
        "- According to definition of closeness we know that each closed set is considered closed if and if only its complement is opened set. If F $\\subset$ X is closed in (X,d) this directly means that its complement X - F will be open set in (X,d)."
      ]
    },
    {
      "cell_type": "markdown",
      "metadata": {
        "id": "mpgHRSskzpSd",
        "colab_type": "text"
      },
      "source": [
        "# Metrics in Euclidean spaces"
      ]
    },
    {
      "cell_type": "markdown",
      "metadata": {
        "id": "rj_j_v_CzpSe",
        "colab_type": "text"
      },
      "source": [
        "Prove that:\n",
        "- for every $u, v \\in \\mathbb{R}^{n}$: $d(u, v) \\geq 0$\n",
        "- for every $v \\in \\mathbb{R}^{n}$: $d(v, v) = 0$\n",
        "- for every $u, v \\in \\mathbb{R}^{n}$: $d(u, v) = d(v, u)$ (symmetry)\n",
        "- for every $u, v, w \\in \\mathbb{R}^{n}$: $d(u, w) \\leq d(u, v) + d(w, v)$ (triangle inequality)"
      ]
    },
    {
      "cell_type": "markdown",
      "metadata": {
        "id": "dFxkhJ5AzpSg",
        "colab_type": "text"
      },
      "source": [
        "#### Proved\n",
        "- We have u and v vectors from $R^{n}$, euclidean distance for them will be defined $d(u,v) = \\sqrt{\\sum_{i=1}^{n}(u_{i} - v_{i})^2}$ Its clear that $(u_{i} - v_{i})^2$ will be always $\\geq 0$ hence their sum and square root will also be $\\geq 0$. Therefore $d(u,v) \\geq 0$ \n",
        "- For every $ v \\in \\mathbb{R}^{n}$: $d(v,v) = 0$ because $(v_{i} - v_{i})^2$ is equal to 0, sum of 0s is aqual to zero and square root from zero is also zero.\n",
        "- For every $u, v \\in \\mathbb{R}^{n}$: $d(u, v) = d(v, u)$ because $(u_{i} - v_{i})^2 = (v_{i} - u_{i})^2$ and $\\sqrt{\\sum_{i=1}^{n}(u_{i} - v_{i})^2} = \\sqrt{\\sum_{i=1}^{n}(v_{i} - u_{i})^2}$.\n",
        "- We have $u, v, w \\in \\mathbb{R}^{n}$ then $d(u,w)^2 = \\sum_{i=1}^{n}(u_{i} - w_{i})^2$ = $\\sum_{i=1}^{n}((u_{i} - v_{i}) - (w_{i} - v_{i}))^2$ = $\\sum (u_{i} - v_{i})^2 - 2\\sum(u_{i} - v_{i})(w_{i} - v_{i}) + \\sum(w_{i} - v_{i})^2 \\leq d(u, v)^2 + 2d(u,v)d(w,v) + d(w,v)^2$.   $d(u, v)^2 + 2d(u,v)d(w,v) + d(w,v)^2 = (d(u,v) + d(w,v))^2$. Therefore $d(u,w) \\leq d(u,v) + d(w, v)$."
      ]
    },
    {
      "cell_type": "markdown",
      "metadata": {
        "id": "zu_bF4stzpSi",
        "colab_type": "text"
      },
      "source": [
        "Prove the same properties hold for $d(u, v) = ||u-v||_1$ ($||u-v||_1 = \\sum_{i = 1}^{n}|u_i - v_i|$)"
      ]
    },
    {
      "cell_type": "markdown",
      "metadata": {
        "id": "mtnno8fUzpSj",
        "colab_type": "text"
      },
      "source": [
        "#### Proved\n",
        "- We have two vectors $v, u \\in R^{n}$ for which $d(u,v) = \\sum_{i = 1}^{n}|u_i - v_i|$. $|u_i - v_i|$ is always $\\geq 0$ therefore $d(u,v) \\geq 0$\n",
        "- For every $v \\in R^{n}: d(v,v) = 0$ because $|v_i - v_i|$ = 0 and same can be said about $\\sum_{i = 1}^{n}|v_i - v_i|$. \n",
        "- For every $u,v \\in R^{n}: d(u,v) = d(v,u)$ because $|v_{i} - u_{i}| = |u_{i} - v_{i}|$ and $\\sum_{i=1}^{n}|v_{i} - u_{i}| = \\sum_{i=1}^{n}|u_{i} - v_{i}|$.\n",
        "- We have $u,v,w \\in R^{n}$ and $d(u,w) = \\sum_{i = 1}^{n}|u_i - w_i| = \\sum_{i = 1}^{n}|(u_{i} - v_{i}) - (w_i - v_i)| \\leq \\sum_{ i = 1} ^{n}|u_{i} - v_{i}| + \\sum_{i = 1} ^{n}|w_{i} - v_{i}| \\leq d(u, v) + d(w, v)$. Therefore $d(u, w) \\leq d(u, v) + d(w, v)$."
      ]
    },
    {
      "cell_type": "markdown",
      "metadata": {
        "id": "bZ7rPPiAzpSl",
        "colab_type": "text"
      },
      "source": [
        "## Sequences and limits"
      ]
    },
    {
      "cell_type": "markdown",
      "metadata": {
        "id": "AOh8UiaSzpSm",
        "colab_type": "text"
      },
      "source": [
        "#### Prove that $x = \\lim_{n\\to\\infty}{x_n}$ in $(X, d)$ if and only if (iff) for every $r \\in \\mathbb{R}$ there exists $n_0 \\in \\mathbb{N}$ such that: $x_i \\in B(x, r)$ for every $i \\gt n_0$"
      ]
    },
    {
      "cell_type": "markdown",
      "metadata": {
        "id": "X_P8c1CQzpSo",
        "colab_type": "text"
      },
      "source": [
        "#### Proved\n",
        "- If we have $x = \\lim_{n\\to\\infty}{x_n}$ in $(X, d)$ this means that we have $(x_i)_{i=1}^{\\infty}$ which is infinite and $x \\in X$ is its limit. Essential condition for $x = \\lim_{n\\to\\infty}{x_n}$ in $(X, d)$ is that for every open set $U \\in X$ such that $x \\in U$ there should exist $n_0 \\in \\mathbb{R}$ such that $x_i \\in U$ for every $i \\gt n_0$. $B(x,r)$ is an open set which contains xs $x \\in B(x,r)$ and  we have $n_{0} \\in N \\in R$ such that $i > n_0$. "
      ]
    },
    {
      "cell_type": "markdown",
      "metadata": {
        "id": "ihOCQusPzpSp",
        "colab_type": "text"
      },
      "source": [
        "#### Prove that if $x = \\lim_{n\\to\\infty}{x_n}$ and $x \\notin \\{-\\infty, \\infty\\}$ then $(x_i)_{i=1}^{\\infty} = (x_1, x_2, \\dots, x_n)$ is a Cauchy sequence"
      ]
    },
    {
      "cell_type": "markdown",
      "metadata": {
        "id": "Pe2kdNUPzpSr",
        "colab_type": "text"
      },
      "source": [
        "#### Proved\n",
        "- $x \\notin \\{-\\infty, \\infty\\}$ means that x d is some finite number. For  $x \\in R$  and $n_0 \\in N$ there exists $d(x_i, x_j) < x$ such that   $i,j > n_0$"
      ]
    },
    {
      "cell_type": "markdown",
      "metadata": {
        "id": "2yrGudsizpSs",
        "colab_type": "text"
      },
      "source": [
        "For closed set $F \\subset \\mathbb{R}^n$ and convergent sequence $(x_i)_{i=1}^{\\infty} = (x_1, x_2, \\dots, x_n)$ such that there exists $n_0 \\in \\mathbb{N}$ such that $x_i \\in F$ for each $i \\gt n_0$ then: $\\lim_{n\\to\\infty}{x_n} \\in F$"
      ]
    },
    {
      "cell_type": "markdown",
      "metadata": {
        "id": "SZkAVFyUzpSu",
        "colab_type": "text"
      },
      "source": [
        "#### Prove that if $F$ is open from previous example, statement does not hold. "
      ]
    },
    {
      "cell_type": "markdown",
      "metadata": {
        "id": "OoX9vBQ7zpSv",
        "colab_type": "text"
      },
      "source": [
        "#### Proved\n",
        "- If $F \\subset R^n$ is open set it means that for every $x, y \\in F$ we have an $\\epsilon$ such that $d(x,y) < \\epsilon$. This means that if we have $n_0 \\in N$ and $x_i \\in F$ and $\\lim_{n\\to\\infty}{x_n} \\in F$, $d(x_i,\\lim_{n\\to\\infty}{x_n}) < \\epsilon$ which is against definition of Cauchy sequence.   "
      ]
    },
    {
      "cell_type": "markdown",
      "metadata": {
        "id": "YDOciyBPzpSx",
        "colab_type": "text"
      },
      "source": [
        "#### Prove that inherited metric is a metric"
      ]
    },
    {
      "cell_type": "markdown",
      "metadata": {
        "id": "IyhEYwptzpS0",
        "colab_type": "text"
      },
      "source": [
        "#### Proved\n",
        "- Suppose we have metric M = $(X,d)$ and $S \\subset X$. Suppose that we have $d_S:$ S X S $\\to R$ as restriction $d|_{S X S}$ of d to S. Now we have $(S, d_S) \\subset (X,d)$. Using the definition of restriction for all $x, y \\in S$ we have $d_S(x,y) = d(x, y)$. As we know d is a metric,therefore metric space axioms would also hold for every  $x,y\\in X$ under d.Using the definition of subset, all $x,y \\in S$ are also in X. Hence the metric space axioms would hold for all $x,y \\in S$ under $d_S$.\n"
      ]
    },
    {
      "cell_type": "markdown",
      "metadata": {
        "id": "uPoH6GHBzpS2",
        "colab_type": "text"
      },
      "source": [
        "## Limits of functions"
      ]
    },
    {
      "cell_type": "markdown",
      "metadata": {
        "id": "yRObi6npzpS3",
        "colab_type": "text"
      },
      "source": [
        "- We say that the limit of function $f:(S, d_x) \\to (Y, d_Y)$ between metric spaces in some limit point $c \\in X$ of the subset $S$ is $y \\in Y $if for each open neighborhood of $y \\in V \\subset Y$ there exists the open neighborhood of $c \\in U \\subset X$ such that $f(U \\cap S) \\subset V$ This definition is equiualent of definition:\n",
        "- The limit of function $f:(S, d_X) \\to (Y, d_Y)$ between metric spaces in limit point $c \\in X$ of the subset $S$ is $y \\in Y $ if for each open ball $B(x, r) \\subset Y$ there exists the ball $B(c, l) \\subset X$ such that $f(B(c, l) \\cap S) \\subset B(y, r)$ or\n",
        "- The limit of function $f:(S, d_X) \\to (Y, d_Y)$ between metric spaces in limit point $c \\in X$ of subset $S$ is $y \\in Y $ if for any $r \\in \\mathbb{R}$ there exists $l \\in \\mathbb{R}$ such that for every $x \\in S$ with $d_X(x, c) \\lt l$ implies that $d_Y(f(x), y) \\lt r$"
      ]
    },
    {
      "cell_type": "markdown",
      "metadata": {
        "id": "xa35x8OZzpS4",
        "colab_type": "text"
      },
      "source": [
        "#### Prove that this three definitions are equivalent for any function between any two metric spaces"
      ]
    },
    {
      "cell_type": "markdown",
      "metadata": {
        "id": "BENWQa3KzpS6",
        "colab_type": "text"
      },
      "source": [
        "\n",
        "- I was unable to prove   "
      ]
    },
    {
      "cell_type": "markdown",
      "metadata": {
        "id": "pc6yyf7ezpS7",
        "colab_type": "text"
      },
      "source": [
        "## Continuous functions "
      ]
    },
    {
      "cell_type": "markdown",
      "metadata": {
        "id": "hF8ovzG0zpS9",
        "colab_type": "text"
      },
      "source": [
        "#### Prove that function is continuous in $c$ if for any sequence $(x_n)_{n=1}^{\\infty} \\subset X$ such that $\\lim_{n \\to \\infty}x_n = c$ we have $\\lim_{n \\to \\infty}f(x_n) = f(c)$"
      ]
    },
    {
      "cell_type": "markdown",
      "metadata": {
        "id": "A8LJzgFyzpS-",
        "colab_type": "text"
      },
      "source": [
        "#### Proved\n",
        "- If for any sequence $(x_n)_{n=1}^{\\infty} \\subset X$ we have  $\\lim_{n \\to \\infty}x_n = c$ and $\\lim_{n \\to \\infty}f(x_n) = f(c)$. This means that we have $c \\in X$ for which $\\lim_{n \\to \\infty}f(x_n) = f(c)$. Hence the function $f:(X, d_X) \\to (Y, d_Y)$ is called continuous in $c \\in X$."
      ]
    },
    {
      "cell_type": "markdown",
      "metadata": {
        "id": "svqUa_p2zpTA",
        "colab_type": "text"
      },
      "source": [
        "#### Prove that function is continuous if for every open set $V \\subset Y$ the $f^{-1}(V)$ is open in $X$"
      ]
    },
    {
      "cell_type": "markdown",
      "metadata": {
        "id": "vKA4R4dMzpTB",
        "colab_type": "text"
      },
      "source": [
        "#### Proved\n",
        "- I would like to divide the proof into two sections. Firstly I wanna prove that every open set has inverse image which is open. Consider $c \\in f^{−1}(V)$  then $f(c) \\in V$. Since $V \\in Y$ is open, there exists $m \\gt 0$ such that $B(f(c),m) \\subset V$. Let's take some $\\epsilon$ such that $0 \\lt \\epsilon \\le m$, since f is continuous, there exists $\\lambda \\gt 0$ for which  $f(c) \\in B(f(c),\\epsilon)$ whenever $x \\in B(c, \\lambda)$. Note that if $x \\in B(c,\\lambda)$, then $f(x) \\in B(f(c), \\epsilon) \\subset V$, thus $f(c) \\in V$, moreover, $x \\in f^{−1}(V)$, thus $B(c,\\lambda) \\subset f^{−1}(V)$, then $f^{−1}(V)$ is open.\n",
        "- (NOTE: In this part I already assumed that $f(V)$ is continuous)"
      ]
    },
    {
      "cell_type": "markdown",
      "metadata": {
        "id": "qp-mwbpJzpTD",
        "colab_type": "text"
      },
      "source": [
        "- Assume that $f(V)$ is continuous function. Then it implies that for every open neigbourhood of $f(c) \\in X$ we have $c \\in V \\subset Y$ which has open neigbourhood for $f(V) \\subset X$. As I've proved above every open set has inverse image which is open therefore if $f(V)$ is open then $f^{-1}(V)$ will also be opened and vise versa. Therefore it's impossible for $f^{-1}(V)$ to be closed if f is continuous. Thus if functions is continuous if for every open set $V \\in Y$ the $f^{-1}(V)$ is open in X. (რდგ :D)."
      ]
    },
    {
      "cell_type": "markdown",
      "metadata": {
        "id": "dEwQt0aNzpTE",
        "colab_type": "text"
      },
      "source": [
        "#### Prove that function is continuous if for every closed set $F \\subset Y$ the $f^{-1}(F)$ is closed in $X$"
      ]
    },
    {
      "cell_type": "markdown",
      "metadata": {
        "id": "4vA5S2Q5zpTG",
        "colab_type": "text"
      },
      "source": [
        "#### Proved\n",
        "- I would use same manner to proof this statement as the previous one. Firstly I wanna prove that every closed set has inverse image which is closed. Consider that we have $f(F)$ which is closed, and using the definition of closeness we can write that X \\ $f^{-1}(F)$ = $F^{-1}$(Y\\F) is open set, therefore $f^{-1}(F)$ is closed. Now I will move to next part.\n",
        "- (NOTE: In this part I already assumed that f is continuous)."
      ]
    },
    {
      "cell_type": "markdown",
      "metadata": {
        "id": "LuipDdDMzpTH",
        "colab_type": "text"
      },
      "source": [
        "- Assume that $f(F)$ is continuous function which is defined on closed set F. Since f is continuous we have for a sequence of convergence $x_n \\to x_0$ and we will have $\\lim_{n \\to \\infty}f(x_n) = f(x_0)$. As I've proved above for any closed set its preimage will be also closed thus $f^{-1}(F)$ is closed in X. Therefore $f^{-1}(F)$ would be also convergent to $x_0$. It's impossible if function is continuous on closed set that $f^{-1}(F)$ isn't closed in X.  "
      ]
    },
    {
      "cell_type": "markdown",
      "metadata": {
        "id": "ffPxrPtCzpTI",
        "colab_type": "text"
      },
      "source": [
        "#### Prove that any composition of continous functions is continous"
      ]
    },
    {
      "cell_type": "markdown",
      "metadata": {
        "id": "KVYX4T--zpTK",
        "colab_type": "text"
      },
      "source": [
        "#### Proved\n",
        "- Suppose that we have two functions f and g which are continuous. Since f is continuous at g(a), our definition of continuity tells us that for all $c \\gt 0$ there is some $r_1$ such that $|g(x)−g(a)| \\lt r_1 \\to |f(g(x))−f(g(a))| \\lt c$. Since g is continuous at a, similarly we can write for some r that $|x−a| \\lt r \\to |g(x)−g(a)| \\lt r_1$. Using these equations we know that for $c \\gt 0$ there is some r and a $r_1 \\gt 0$ such that\n",
        "$|x−a|<r \\to |g(x)−g(a)| \\lt r_1 \\to |f(g(x))−f(g(a))| \\lt c$. Therefore composition of two continuous functions is also continuous."
      ]
    }
  ]
}