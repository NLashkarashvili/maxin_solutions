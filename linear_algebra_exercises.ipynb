{
 "cells": [
  {
   "cell_type": "markdown",
   "metadata": {},
   "source": [
    "#### Author Nineli Lashkarashvili"
   ]
  },
  {
   "cell_type": "markdown",
   "metadata": {},
   "source": [
    "$\\bigcap_{i=1}^{n}A_i$ and $\\bigcup_{i=1}^{n}A_i$"
   ]
  },
  {
   "cell_type": "code",
   "execution_count": 1,
   "metadata": {},
   "outputs": [],
   "source": [
    "#implement in python \n",
    "from itertools import chain, combinations\n",
    "def powerset(iterable):\n",
    "    s = set(iterable)\n",
    "    return chain.from_iterable(combinations(s, r) for r in range(len(s)+1))"
   ]
  },
  {
   "cell_type": "code",
   "execution_count": 2,
   "metadata": {},
   "outputs": [
    {
     "data": {
      "text/plain": [
       "set()"
      ]
     },
     "execution_count": 2,
     "metadata": {},
     "output_type": "execute_result"
    }
   ],
   "source": [
    "A_2 = {4,5,6}\n",
    "inter = lambda A: {A[i] for i in range(len(A)) for m in range(1, len(A)) if A[i] in A[m]} \n",
    "#powersets\n",
    "A_1 = list(powerset(A_2))\n",
    "inter(A_1)"
   ]
  },
  {
   "cell_type": "markdown",
   "metadata": {},
   "source": [
    "#### As you see we have empty set because $\\bigcap_{i=1}^{n}A_i = \\emptyset$ \n",
    "#### Now we should get A itself as $\\bigcup_{i=1}^{n}A_i = A$"
   ]
  },
  {
   "cell_type": "code",
   "execution_count": 3,
   "metadata": {},
   "outputs": [
    {
     "data": {
      "text/plain": [
       "{(), (4,), (4, 5), (4, 5, 6), (4, 6), (5,), (5, 6), (6,)}"
      ]
     },
     "execution_count": 3,
     "metadata": {},
     "output_type": "execute_result"
    }
   ],
   "source": [
    "union = lambda A_1: {i for i in set(A_1) | set(A_1)}\n",
    "union(A_1)"
   ]
  },
  {
   "cell_type": "markdown",
   "metadata": {},
   "source": [
    "#### Let's check if we have A after union because $\\bigcup_{i=1}^{n}A_i = A$"
   ]
  },
  {
   "cell_type": "code",
   "execution_count": 4,
   "metadata": {},
   "outputs": [
    {
     "data": {
      "text/plain": [
       "True"
      ]
     },
     "execution_count": 4,
     "metadata": {},
     "output_type": "execute_result"
    }
   ],
   "source": [
    "union(A_1) == set(A_1)"
   ]
  },
  {
   "cell_type": "markdown",
   "metadata": {},
   "source": [
    "$\\prod_{i \\in I} A_i$"
   ]
  },
  {
   "cell_type": "code",
   "execution_count": 5,
   "metadata": {},
   "outputs": [],
   "source": [
    "#implement in python\n",
    "crtzian = lambda A_1: {(i,j) for i in A_1 for j in A_1}"
   ]
  },
  {
   "cell_type": "code",
   "execution_count": 6,
   "metadata": {},
   "outputs": [
    {
     "data": {
      "text/plain": [
       "{((), ()),\n",
       " ((), (4,)),\n",
       " ((), (4, 5)),\n",
       " ((), (4, 5, 6)),\n",
       " ((), (4, 6)),\n",
       " ((), (5,)),\n",
       " ((), (5, 6)),\n",
       " ((), (6,)),\n",
       " ((4,), ()),\n",
       " ((4,), (4,)),\n",
       " ((4,), (4, 5)),\n",
       " ((4,), (4, 5, 6)),\n",
       " ((4,), (4, 6)),\n",
       " ((4,), (5,)),\n",
       " ((4,), (5, 6)),\n",
       " ((4,), (6,)),\n",
       " ((4, 5), ()),\n",
       " ((4, 5), (4,)),\n",
       " ((4, 5), (4, 5)),\n",
       " ((4, 5), (4, 5, 6)),\n",
       " ((4, 5), (4, 6)),\n",
       " ((4, 5), (5,)),\n",
       " ((4, 5), (5, 6)),\n",
       " ((4, 5), (6,)),\n",
       " ((4, 5, 6), ()),\n",
       " ((4, 5, 6), (4,)),\n",
       " ((4, 5, 6), (4, 5)),\n",
       " ((4, 5, 6), (4, 5, 6)),\n",
       " ((4, 5, 6), (4, 6)),\n",
       " ((4, 5, 6), (5,)),\n",
       " ((4, 5, 6), (5, 6)),\n",
       " ((4, 5, 6), (6,)),\n",
       " ((4, 6), ()),\n",
       " ((4, 6), (4,)),\n",
       " ((4, 6), (4, 5)),\n",
       " ((4, 6), (4, 5, 6)),\n",
       " ((4, 6), (4, 6)),\n",
       " ((4, 6), (5,)),\n",
       " ((4, 6), (5, 6)),\n",
       " ((4, 6), (6,)),\n",
       " ((5,), ()),\n",
       " ((5,), (4,)),\n",
       " ((5,), (4, 5)),\n",
       " ((5,), (4, 5, 6)),\n",
       " ((5,), (4, 6)),\n",
       " ((5,), (5,)),\n",
       " ((5,), (5, 6)),\n",
       " ((5,), (6,)),\n",
       " ((5, 6), ()),\n",
       " ((5, 6), (4,)),\n",
       " ((5, 6), (4, 5)),\n",
       " ((5, 6), (4, 5, 6)),\n",
       " ((5, 6), (4, 6)),\n",
       " ((5, 6), (5,)),\n",
       " ((5, 6), (5, 6)),\n",
       " ((5, 6), (6,)),\n",
       " ((6,), ()),\n",
       " ((6,), (4,)),\n",
       " ((6,), (4, 5)),\n",
       " ((6,), (4, 5, 6)),\n",
       " ((6,), (4, 6)),\n",
       " ((6,), (5,)),\n",
       " ((6,), (5, 6)),\n",
       " ((6,), (6,))}"
      ]
     },
     "execution_count": 6,
     "metadata": {},
     "output_type": "execute_result"
    }
   ],
   "source": [
    "crtzian(A_1)"
   ]
  },
  {
   "cell_type": "markdown",
   "metadata": {},
   "source": [
    "#### Now let's check the amount of elements, if its correct according to rules of Cartesian Product"
   ]
  },
  {
   "cell_type": "code",
   "execution_count": 7,
   "metadata": {},
   "outputs": [
    {
     "data": {
      "text/plain": [
       "True"
      ]
     },
     "execution_count": 7,
     "metadata": {},
     "output_type": "execute_result"
    }
   ],
   "source": [
    "len(crtzian(A_1)) == len(A_1)*len(A_1)"
   ]
  },
  {
   "cell_type": "markdown",
   "metadata": {},
   "source": [
    "Write Combination for $XOR$ calculation"
   ]
  },
  {
   "cell_type": "code",
   "execution_count": 8,
   "metadata": {},
   "outputs": [],
   "source": [
    "from math import e\n",
    "def softmax(v):\n",
    "    return [int(round(1/(1 + e**-i))) for i in v]"
   ]
  },
  {
   "cell_type": "code",
   "execution_count": 9,
   "metadata": {},
   "outputs": [],
   "source": [
    "def and_or(v_1, v_2, _and = True):\n",
    "    if len(v_1) != len(v_2):\n",
    "        raise ValueError(\"UNSUPPORTED OPERATION\")\n",
    "    else:\n",
    "        if _and:\n",
    "            return [i&j for i, j in zip(v_1, v_2)]\n",
    "        return [i|j for i, j in zip(v_1, v_2)]\n",
    "def N(v):\n",
    "    softmax(v)\n",
    "    return [~i for i in v]"
   ]
  },
  {
   "cell_type": "code",
   "execution_count": 10,
   "metadata": {},
   "outputs": [],
   "source": [
    "def XOR(A, B):\n",
    "    A = softmax(A)\n",
    "    B = softmax(B)\n",
    "    return and_or(and_or(A,B, False), and_or(N(A), N(B), False))"
   ]
  },
  {
   "cell_type": "code",
   "execution_count": 11,
   "metadata": {},
   "outputs": [
    {
     "data": {
      "text/plain": [
       "[1, 1, 0, 0, 1]"
      ]
     },
     "execution_count": 11,
     "metadata": {},
     "output_type": "execute_result"
    }
   ],
   "source": [
    "#When A&B are in {0,1}\n",
    "A = [1, 0, 0, 1, 1]\n",
    "B = [0, 1, 0, 1, 0]\n",
    "XOR(A,B)"
   ]
  },
  {
   "cell_type": "code",
   "execution_count": 12,
   "metadata": {},
   "outputs": [
    {
     "data": {
      "text/plain": [
       "[1, 0, 1, 1, 0]"
      ]
     },
     "execution_count": 12,
     "metadata": {},
     "output_type": "execute_result"
    }
   ],
   "source": [
    "#When A&B are in Z\n",
    "A = [-45, 67, 98, 2, 1]\n",
    "B = [23, 33, 0, -5, 3]\n",
    "XOR(A,B)"
   ]
  }
 ],
 "metadata": {
  "kernelspec": {
   "display_name": "Python 3",
   "language": "python",
   "name": "python3"
  },
  "language_info": {
   "codemirror_mode": {
    "name": "ipython",
    "version": 3
   },
   "file_extension": ".py",
   "mimetype": "text/x-python",
   "name": "python",
   "nbconvert_exporter": "python",
   "pygments_lexer": "ipython3",
   "version": "3.7.2"
  }
 },
 "nbformat": 4,
 "nbformat_minor": 2
}
