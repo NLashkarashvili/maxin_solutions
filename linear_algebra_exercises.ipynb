{
  "nbformat": 4,
  "nbformat_minor": 0,
  "metadata": {
    "kernelspec": {
      "display_name": "Python 3",
      "language": "python",
      "name": "python3"
    },
    "language_info": {
      "codemirror_mode": {
        "name": "ipython",
        "version": 3
      },
      "file_extension": ".py",
      "mimetype": "text/x-python",
      "name": "python",
      "nbconvert_exporter": "python",
      "pygments_lexer": "ipython3",
      "version": "3.7.2"
    },
    "colab": {
      "name": "linear_algebra_exercises.ipynb",
      "provenance": [],
      "include_colab_link": true
    }
  },
  "cells": [
    {
      "cell_type": "markdown",
      "metadata": {
        "id": "view-in-github",
        "colab_type": "text"
      },
      "source": [
        "<a href=\"https://colab.research.google.com/github/NLashkarashvili/maxin_solutions/blob/master/linear_algebra_exercises.ipynb\" target=\"_parent\"><img src=\"https://colab.research.google.com/assets/colab-badge.svg\" alt=\"Open In Colab\"/></a>"
      ]
    },
    {
      "cell_type": "markdown",
      "metadata": {
        "id": "NK3HnMS84LAI",
        "colab_type": "text"
      },
      "source": [
        "#### Author Nineli Lashkarashvili"
      ]
    },
    {
      "cell_type": "markdown",
      "metadata": {
        "id": "9H5oXia84LAN",
        "colab_type": "text"
      },
      "source": [
        "$\\bigcap_{i=1}^{n}A_i$ and $\\bigcup_{i=1}^{n}A_i$"
      ]
    },
    {
      "cell_type": "code",
      "metadata": {
        "id": "7dUMd8qS4LAP",
        "colab_type": "code",
        "colab": {}
      },
      "source": [
        "#implement in python \n",
        "from itertools import chain, combinations\n",
        "def powerset(iterable):\n",
        "    s = set(iterable)\n",
        "    return chain.from_iterable(combinations(s, r) for r in range(len(s)+1))"
      ],
      "execution_count": 0,
      "outputs": []
    },
    {
      "cell_type": "code",
      "metadata": {
        "id": "WRaDufYZ4LAW",
        "colab_type": "code",
        "colab": {},
        "outputId": "3e8f72a6-e078-40e3-ea97-ed729afd4088"
      },
      "source": [
        "A_2 = {4,5,6}\n",
        "inter = lambda A: {A[i] for i in range(len(A)) for m in range(1, len(A)) if A[i] in A[m]} \n",
        "#powersets\n",
        "A_1 = list(powerset(A_2))\n",
        "inter(A_1)"
      ],
      "execution_count": 0,
      "outputs": [
        {
          "output_type": "execute_result",
          "data": {
            "text/plain": [
              "set()"
            ]
          },
          "metadata": {
            "tags": []
          },
          "execution_count": 2
        }
      ]
    },
    {
      "cell_type": "markdown",
      "metadata": {
        "id": "voDuqcC24LAe",
        "colab_type": "text"
      },
      "source": [
        "#### As you see we have empty set because $\\bigcap_{i=1}^{n}A_i = \\emptyset$ \n",
        "#### Now we should get A itself as $\\bigcup_{i=1}^{n}A_i = A$"
      ]
    },
    {
      "cell_type": "code",
      "metadata": {
        "id": "EJIPhGV54LAg",
        "colab_type": "code",
        "colab": {},
        "outputId": "9010efac-a600-4bd5-acb5-3bf5636690e9"
      },
      "source": [
        "union = lambda A_1: {i for i in set(A_1) | set(A_1)}\n",
        "union(A_1)"
      ],
      "execution_count": 0,
      "outputs": [
        {
          "output_type": "execute_result",
          "data": {
            "text/plain": [
              "{(), (4,), (4, 5), (4, 5, 6), (4, 6), (5,), (5, 6), (6,)}"
            ]
          },
          "metadata": {
            "tags": []
          },
          "execution_count": 3
        }
      ]
    },
    {
      "cell_type": "markdown",
      "metadata": {
        "id": "xflDCdAg4LAm",
        "colab_type": "text"
      },
      "source": [
        "#### Let's check if we have A after union because $\\bigcup_{i=1}^{n}A_i = A$"
      ]
    },
    {
      "cell_type": "code",
      "metadata": {
        "id": "gHK0LOoV4LAo",
        "colab_type": "code",
        "colab": {},
        "outputId": "31455b8e-a792-48ba-d8bc-734ba0725c34"
      },
      "source": [
        "union(A_1) == set(A_1)"
      ],
      "execution_count": 0,
      "outputs": [
        {
          "output_type": "execute_result",
          "data": {
            "text/plain": [
              "True"
            ]
          },
          "metadata": {
            "tags": []
          },
          "execution_count": 4
        }
      ]
    },
    {
      "cell_type": "markdown",
      "metadata": {
        "id": "KtPSOrqq4LAt",
        "colab_type": "text"
      },
      "source": [
        "$\\prod_{i \\in I} A_i$"
      ]
    },
    {
      "cell_type": "code",
      "metadata": {
        "id": "7YcxWwIg4LAv",
        "colab_type": "code",
        "colab": {}
      },
      "source": [
        "#implement in python\n",
        "crtzian = lambda A_1: {(i,j) for i in A_1 for j in A_1}"
      ],
      "execution_count": 0,
      "outputs": []
    },
    {
      "cell_type": "code",
      "metadata": {
        "id": "Is-oW9MS4LA1",
        "colab_type": "code",
        "colab": {},
        "outputId": "0533fc4d-66c7-4475-a52a-a5b95407ca12"
      },
      "source": [
        "crtzian(A_1)"
      ],
      "execution_count": 0,
      "outputs": [
        {
          "output_type": "execute_result",
          "data": {
            "text/plain": [
              "{((), ()),\n",
              " ((), (4,)),\n",
              " ((), (4, 5)),\n",
              " ((), (4, 5, 6)),\n",
              " ((), (4, 6)),\n",
              " ((), (5,)),\n",
              " ((), (5, 6)),\n",
              " ((), (6,)),\n",
              " ((4,), ()),\n",
              " ((4,), (4,)),\n",
              " ((4,), (4, 5)),\n",
              " ((4,), (4, 5, 6)),\n",
              " ((4,), (4, 6)),\n",
              " ((4,), (5,)),\n",
              " ((4,), (5, 6)),\n",
              " ((4,), (6,)),\n",
              " ((4, 5), ()),\n",
              " ((4, 5), (4,)),\n",
              " ((4, 5), (4, 5)),\n",
              " ((4, 5), (4, 5, 6)),\n",
              " ((4, 5), (4, 6)),\n",
              " ((4, 5), (5,)),\n",
              " ((4, 5), (5, 6)),\n",
              " ((4, 5), (6,)),\n",
              " ((4, 5, 6), ()),\n",
              " ((4, 5, 6), (4,)),\n",
              " ((4, 5, 6), (4, 5)),\n",
              " ((4, 5, 6), (4, 5, 6)),\n",
              " ((4, 5, 6), (4, 6)),\n",
              " ((4, 5, 6), (5,)),\n",
              " ((4, 5, 6), (5, 6)),\n",
              " ((4, 5, 6), (6,)),\n",
              " ((4, 6), ()),\n",
              " ((4, 6), (4,)),\n",
              " ((4, 6), (4, 5)),\n",
              " ((4, 6), (4, 5, 6)),\n",
              " ((4, 6), (4, 6)),\n",
              " ((4, 6), (5,)),\n",
              " ((4, 6), (5, 6)),\n",
              " ((4, 6), (6,)),\n",
              " ((5,), ()),\n",
              " ((5,), (4,)),\n",
              " ((5,), (4, 5)),\n",
              " ((5,), (4, 5, 6)),\n",
              " ((5,), (4, 6)),\n",
              " ((5,), (5,)),\n",
              " ((5,), (5, 6)),\n",
              " ((5,), (6,)),\n",
              " ((5, 6), ()),\n",
              " ((5, 6), (4,)),\n",
              " ((5, 6), (4, 5)),\n",
              " ((5, 6), (4, 5, 6)),\n",
              " ((5, 6), (4, 6)),\n",
              " ((5, 6), (5,)),\n",
              " ((5, 6), (5, 6)),\n",
              " ((5, 6), (6,)),\n",
              " ((6,), ()),\n",
              " ((6,), (4,)),\n",
              " ((6,), (4, 5)),\n",
              " ((6,), (4, 5, 6)),\n",
              " ((6,), (4, 6)),\n",
              " ((6,), (5,)),\n",
              " ((6,), (5, 6)),\n",
              " ((6,), (6,))}"
            ]
          },
          "metadata": {
            "tags": []
          },
          "execution_count": 6
        }
      ]
    },
    {
      "cell_type": "markdown",
      "metadata": {
        "id": "r9nGJKIn4LA6",
        "colab_type": "text"
      },
      "source": [
        "#### Now let's check the amount of elements, if its correct according to rules of Cartesian Product"
      ]
    },
    {
      "cell_type": "code",
      "metadata": {
        "id": "vUoxkt3A4LA8",
        "colab_type": "code",
        "colab": {},
        "outputId": "d9ff0ce9-1762-4b13-f8ef-d6685072bff4"
      },
      "source": [
        "len(crtzian(A_1)) == len(A_1)*len(A_1)"
      ],
      "execution_count": 0,
      "outputs": [
        {
          "output_type": "execute_result",
          "data": {
            "text/plain": [
              "True"
            ]
          },
          "metadata": {
            "tags": []
          },
          "execution_count": 7
        }
      ]
    },
    {
      "cell_type": "markdown",
      "metadata": {
        "id": "-IwfpNHT4LBC",
        "colab_type": "text"
      },
      "source": [
        "Write Combination for $XOR$ calculation"
      ]
    },
    {
      "cell_type": "code",
      "metadata": {
        "id": "E4eUdyOu4LBF",
        "colab_type": "code",
        "colab": {}
      },
      "source": [
        "from math import e\n",
        "def softmax(v):\n",
        "    return [int(round(1/(1 + e**-i))) for i in v]"
      ],
      "execution_count": 0,
      "outputs": []
    },
    {
      "cell_type": "code",
      "metadata": {
        "id": "uNvXdMow4LBL",
        "colab_type": "code",
        "colab": {}
      },
      "source": [
        "def and_or(v_1, v_2, _and = True):\n",
        "    if len(v_1) != len(v_2):\n",
        "        raise ValueError(\"UNSUPPORTED OPERATION\")\n",
        "    else:\n",
        "        if _and:\n",
        "            return [i&j for i, j in zip(v_1, v_2)]\n",
        "        return [i|j for i, j in zip(v_1, v_2)]\n",
        "def N(v):\n",
        "    softmax(v)\n",
        "    return [~i for i in v]"
      ],
      "execution_count": 0,
      "outputs": []
    },
    {
      "cell_type": "code",
      "metadata": {
        "id": "ehmOmTp34LBQ",
        "colab_type": "code",
        "colab": {}
      },
      "source": [
        "def XOR(A, B):\n",
        "    A = softmax(A)\n",
        "    B = softmax(B)\n",
        "    return and_or(and_or(A,B, False), and_or(N(A), N(B), False))"
      ],
      "execution_count": 0,
      "outputs": []
    },
    {
      "cell_type": "code",
      "metadata": {
        "id": "abaSo2-F4LBW",
        "colab_type": "code",
        "colab": {},
        "outputId": "d254b5c9-3ebf-4bd5-972d-a4e466c2792b"
      },
      "source": [
        "#When A&B are in {0,1}\n",
        "A = [1, 0, 0, 1, 1]\n",
        "B = [0, 1, 0, 1, 0]\n",
        "XOR(A,B)"
      ],
      "execution_count": 0,
      "outputs": [
        {
          "output_type": "execute_result",
          "data": {
            "text/plain": [
              "[1, 1, 0, 0, 1]"
            ]
          },
          "metadata": {
            "tags": []
          },
          "execution_count": 11
        }
      ]
    },
    {
      "cell_type": "code",
      "metadata": {
        "id": "6y1bC_2_4LBb",
        "colab_type": "code",
        "colab": {},
        "outputId": "fc1083be-c253-45fa-865c-61e952fff946"
      },
      "source": [
        "#When A&B are in Z\n",
        "A = [-45, 67, 98, 2, 1]\n",
        "B = [23, 33, 0, -5, 3]\n",
        "XOR(A,B)"
      ],
      "execution_count": 0,
      "outputs": [
        {
          "output_type": "execute_result",
          "data": {
            "text/plain": [
              "[1, 0, 1, 1, 0]"
            ]
          },
          "metadata": {
            "tags": []
          },
          "execution_count": 12
        }
      ]
    }
  ]
}