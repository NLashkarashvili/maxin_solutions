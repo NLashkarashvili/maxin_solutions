{
 "cells": [
  {
   "cell_type": "markdown",
   "metadata": {},
   "source": [
    "#### Author NINELI LASHKARASHVILI"
   ]
  },
  {
   "cell_type": "markdown",
   "metadata": {},
   "source": [
    "Prove that $A \\subseteq A$"
   ]
  },
  {
   "cell_type": "markdown",
   "metadata": {},
   "source": [
    "##### Proved:\n",
    "every x element of A belongs also belongs to A: $x \\in A$"
   ]
  },
  {
   "cell_type": "markdown",
   "metadata": {},
   "source": [
    "Empty set a $\\emptyset$ is a set without elements at all and which is contained in any set $\\emptyset \\subseteq A$ for any $A \\in Set$ so $\\emptyset$ is the \"smallest\" set (Proof it)"
   ]
  },
  {
   "cell_type": "markdown",
   "metadata": {},
   "source": [
    "#### Proved:\n",
    "As we know empty set doesn't contain any elements. There is no element $x \\in$ $\\emptyset$. Empty set will be a subset of any set because whatever elements indicated set will contain the set which doesn't contain any element will be its subset. It will be even a subset to itself - $\\emptyset \\subseteq \\emptyset$. "
   ]
  },
  {
   "cell_type": "markdown",
   "metadata": {},
   "source": [
    "Prove that if $B \\subset A$ then $A \\cap B = B$"
   ]
  },
  {
   "cell_type": "markdown",
   "metadata": {},
   "source": [
    "#### Proved:\n",
    "when $B \\subset A$ it means that each $x \\in B$ also \n",
    "belongs to A: $x \\in A$. Therefore their intersection will be whole set B \n"
   ]
  },
  {
   "cell_type": "markdown",
   "metadata": {},
   "source": [
    "Prove that $A \\cap B = B \\cap A$"
   ]
  },
  {
   "cell_type": "markdown",
   "metadata": {},
   "source": [
    "#### Proved: \n",
    "$A \\cap B$ means that it contains all x-s in A which also belong to B. \n",
    "$B \\cap A$ means that it contains all x-s in B which also belong to A. From these statements it's clear that $A \\cap B = B \\cap A$   \n"
   ]
  },
  {
   "cell_type": "markdown",
   "metadata": {},
   "source": [
    "Prove that if $B \\subset A$ then $A \\cup B = A$"
   ]
  },
  {
   "cell_type": "markdown",
   "metadata": {},
   "source": [
    "#### Proved:\n",
    "if $B \\subset A$ it means that each $x \\in B$ is also $x \\in A$. $A \\cup B$ means that it shoud contain all elements which are either in B or A. A already contains all $x \\in B$. Therefore it's clear that $A \\cup B = A$ "
   ]
  },
  {
   "cell_type": "markdown",
   "metadata": {},
   "source": [
    "Prove that $A \\cup B = B \\cup A$"
   ]
  },
  {
   "cell_type": "markdown",
   "metadata": {},
   "source": [
    "#### Proved:\n",
    "$A \\cup B$ means that it contains all x-s which are either in A or B. \n",
    "$B \\cup A$ means that it contains all x-s either in B or A. From these statements it's clear that $A \\cup B = B \\cup A$   \n"
   ]
  },
  {
   "cell_type": "markdown",
   "metadata": {},
   "source": [
    "Prove that:\n",
    "- for every injection $m:A \\to B$ and pair of functions $f, g :C \\to A$: if $m \\circ f = m \\circ g$ then $f = g$ and vice-versa\n",
    "- for every surjection $p:A \\to B$ and every pair of functions $f, g :B \\to C$: if $f \\circ p = g \\circ p$ then $f = g$ and vice-versa"
   ]
  },
  {
   "cell_type": "markdown",
   "metadata": {},
   "source": [
    "#### Proved:  \n",
    "- $m \\circ f = m \\circ g$. It means that for every pair of elements $c^{'}, c^{''} \\in C$,  $f(c^{'}) = f(c^{''})$ and for $g(c^{'}) = g(c^{''})$ $\\to$ $c^{'} = c{''}$ and $f(c^{'}) = g(c^{'})$. And from the first part of condition we also know that $A \\to B$ is also injection and for each element of A we have only one corresponding value to it. Therefore f and g are one-to-one functions which for every $c \\in C$ have same values in every $a \\in A$. Hence it's clear that $f = g$ and vise-versa.\n",
    "- $m \\circ p = g \\circ p$ means that  for every $c \\in C$ we have a $b \\in B$ such that $f(b) = g(b)= c$. According this the domain and the corresponding values to each element of the domain - range are the same. Therefore it's clear that $f = g$ \n",
    "\n"
   ]
  },
  {
   "cell_type": "markdown",
   "metadata": {},
   "source": [
    "Prooof that \n",
    "- composition of injections is injection itself\n",
    "- composition of surjections is surjection itself\n",
    "- composition of bijections is bijection itself\n",
    "<br>\n",
    "or give a counterexamples"
   ]
  },
  {
   "cell_type": "markdown",
   "metadata": {},
   "source": [
    "#### Proved:\n",
    "- Suppose that we have two injective functions f and g. Composition of $f \\circ g$ will be equal to f(g(x)). Suppose we have f(g(x)) = f(g(m)) as we know f is injective function and therefore g(x) = g(m) and as we know g(x) is also injective function and therefore x = m. Therefore composition of injections is injection itself.\n",
    "- Suppose that we have two surjective functions f and g. Composition of $f \\circ g$ will be equal to f(g(x)). For each y in range there should exist g(x) such that f(g(x)) = y. As we know function f is surjective therefore there exists g(x)  such that f(g(x)) = y. g is also surjective therefore for every c from its domain there should be x such that g(x) = c. f(g(x)) = f(c) = y therefore composition of surjections is also surjection. \n",
    "- Bijection means that functions are both injective and surjective. Suppose that we have two such functions f and g which are bijective. Composition of $f \\circ g$ will be equals to f(g(x)). As I proved above composition of surjective function is surjection itself and compositions of injections is also injection itself. Therefore composition of bijection which is simply integrates them will be bijection itself.   "
   ]
  },
  {
   "cell_type": "markdown",
   "metadata": {},
   "source": [
    "Proove that for each set $A$:\n",
    "- $A \\cong A$\n",
    "- iff $B \\cong A$ then $B \\cong A$ for every pair of sets $A$ and $B$\n",
    "- if $A \\cong B$ and $B \\cong C$ then $A \\cong C$ for every triplet $A$, $B$ and $C$"
   ]
  },
  {
   "cell_type": "markdown",
   "metadata": {},
   "source": [
    "#### Proved:\n",
    "- We have set A for which $A \\to A$ is a relation which will be both injective and surjective. As for each element $a \\in A$ we will have $a \\in A$ which will be equal to it therefore it's surjective. For every two different elements a and b in A if they are a = b means that they are the same elements therefore it's injective. As we see between A and A is bijection therefore $A \\cong A$.\n",
    "- If $B \\cong A$ it means that there exists bijection between these sets. If the whole set is bijective this means that pick some pair of sets from  A and B them they will also be bijective as bijection is spread on every element of set. \n",
    "- If $A \\cong B$ and $B \\cong C$ it means that A is bijective to B and B is bijective to C. As we have $A \\cong B$ we have $A \\to B$ which is injective as well as surjective. For each element $b \\in B$ we have corresponding only one element $a \\in A$. The same can be said about $B \\to C$, for each $c \\in C$ we have only one corresponding value in $b \\in B$. If we go in reverse order we will see that for every c we have b and for every b we have a hence there exists bijection between A and C for every triplet A, B and C - $A \\cong C$."
   ]
  },
  {
   "cell_type": "markdown",
   "metadata": {},
   "source": [
    "Prooof that there exists bijection between set of natural and even numbers"
   ]
  },
  {
   "cell_type": "markdown",
   "metadata": {},
   "source": [
    "#### Proved:\n",
    "Let's denote set of natural numbers with N which contains both odd and even numbers, adn set of even numbers with V. We have a relation between these sets $N \\to V$. For each element $v \\in V$ we have only one corresponding value $n \\in N$, therefore they are surjective and injective. Hence there exists bijection between set of natural and even numbers.  "
   ]
  },
  {
   "cell_type": "markdown",
   "metadata": {},
   "source": [
    "Proof thet if we have the bijection between two finity sets than they have an equal number of elements"
   ]
  },
  {
   "cell_type": "markdown",
   "metadata": {},
   "source": [
    "#### Proved:\n",
    "Suppose that we have sets A and B which are finite and $A \\cong B$. Suppose that size of B is larger than A than we then either relation between A and B wouldn't surjective or injective, because for every element $b \\in B$ we may have to corresponding values from A or some elements of B would be left without their corresponding values from the domain. Hence the relation wouldn't be bijective anymore. Therefore two finite sets should have an equal number of elements. "
   ]
  },
  {
   "cell_type": "markdown",
   "metadata": {},
   "source": [
    "Prove that $A \\times B \\cong B \\times A$"
   ]
  },
  {
   "cell_type": "markdown",
   "metadata": {},
   "source": [
    "#### Proved:\n",
    "For $A \\times B$ we have (a,b) for every element $a \\in A$ and $b \\in B$. Same can be said about $B \\times A$, in this case we just have (b,a). The amount of elements of course will be same and for each element $e \\in B \\times A$ we will have only one corresponding $x \\in A \\times B$, therefore they will be surjective and injective. This means that there exist bijection between these two set.\n",
    "    "
   ]
  },
  {
   "cell_type": "markdown",
   "metadata": {},
   "source": [
    "Prove that:\n",
    "$$A \\cap (B \\cup C)=(A \\cap B) \\cup (A\\cap C)$$\n",
    "$$A \\cup (B \\cap C)=(A \\cup B) \\cap (A\\cup C)$$"
   ]
  },
  {
   "cell_type": "markdown",
   "metadata": {},
   "source": [
    "#### Proved:\n",
    "- Suppose element $e \\in A \\cap (B \\cup C)$ it means that element e belongs to A and $(B \\cup C)$  Therefore, $e \n",
    "\\in A$ and $e \\in B$ or  $e \\in C$. This implies that $e \\in A$ and $e \\in B$ or $e \\in A$ and\n",
    "$e \\in C$. Hence, $e \\in A \\cap B$ or $e \\in A \\cap C$, i.e. $e \\in (A \\cap B) \\cup (A\\cap C)$. The\n",
    "converse is similar.\n",
    "- Suppose element  $e \\in A \\cup (B \\cap C)$. Then $e \\in A$ or $e \\in B \\cap C.$ Thus, $e \\in A$\n",
    "or ($e \\in B$ and $e \\in C$). This implies that ($e \\in A$ or $e \\in B$) and ($e \\in A$ or\n",
    "$e \\in C$). Hence, $e ∈ A \\cup B$ and $e \\in A \\cup C$, i.e. $e \\in (A \\cup B) \\cap (A \\cup C$). The\n",
    "converse is similar."
   ]
  },
  {
   "cell_type": "markdown",
   "metadata": {},
   "source": [
    "Prove that $a + X = X + a$ and $aX = Xa$ for every scalar $a \\in \\mathbb{R}$ and matrix $X \\in \\mathbb{R}^{n \\times m}$ "
   ]
  },
  {
   "cell_type": "markdown",
   "metadata": {},
   "source": [
    "#### Proved:\n",
    "For $a \\in \\mathbb{R}$ and matrix $X \\in \\mathbb{R}^{n \\times m}$ as \n",
    "$\\begin{align}\n",
    "    X + a &= \\begin{pmatrix}\n",
    "        {x_{11} + a} & {x_{12} + a} & \\dots {x_{1m} + a} \\\\\n",
    "        {x_{21} + a} & {x_{22} + a} & \\dots {x_{2m} + a} \\\\\n",
    "        \\vdots & \\vdots & \\vdots \\\\\n",
    "        {x_{n1} + a} & {x_{n2} + a} & \\dots {x_{nm} + a} \\\\\n",
    "    \\end{pmatrix}\n",
    "\\end{align}$\n",
    "and for For $a \\in \\mathbb{R}$ and matrix $X \\in \\mathbb{R}^{n \\times m}$ as \n",
    "$\\begin{align}\n",
    "    a + X&= \\begin{pmatrix}\n",
    "        {a + x_{11}} & {a + x_{12}} & \\dots {a + x_{1m}} \\\\\n",
    "        {a + x_{21}} & {a + x_{22}} & \\dots {a + x_{2m}} \\\\\n",
    "        \\vdots & \\vdots & \\vdots \\\\\n",
    "        {a + x_{n1}} & {a + x_{n2}} & \\dots {a + x_{nm}} \\\\\n",
    "    \\end{pmatrix}\n",
    "\\end{align}$\n",
    "From here it's clear that a + X = X + a.\n",
    "$\\begin{align}\n",
    "    Xa &= \\begin{pmatrix}\n",
    "        {x_{11}a} & {x_{12}a} & \\dots {x_{1m}a} \\\\\n",
    "        {x_{21}a} & {x_{22}a} & \\dots {x_{2m}a} \\\\\n",
    "        \\vdots & \\vdots & \\vdots \\\\\n",
    "        {x_{n1}a} & {x_{n2}a} & \\dots {x_{nm}a} \\\\\n",
    "    \\end{pmatrix}\n",
    "\\end{align}$ and Multiplication of scalar and matrix\n",
    "$\\begin{align}\n",
    "    aX &= \\begin{pmatrix}\n",
    "        {ax_{11}} & {ax_{12}} & \\dots {ax_{1m}} \\\\\n",
    "        {ax_{21}} & {ax_{22}} & \\dots {ax_{2m}} \\\\\n",
    "        \\vdots & \\vdots & \\vdots \\\\\n",
    "        {ax_{n1}} & {ax_{n2}} & \\dots {ax_{nm}} \\\\\n",
    "    \\end{pmatrix}\n",
    "\\end{align}$ From these results it can be asserted that $aX = Xa$     "
   ]
  },
  {
   "cell_type": "markdown",
   "metadata": {},
   "source": [
    "Prove that $v^{T}u = vu^{T}$ for each $v, u \\in \\mathbb{R}^{n}$"
   ]
  },
  {
   "cell_type": "markdown",
   "metadata": {},
   "source": [
    "#### Proved:\n",
    "We have to vectors $v, u \\in \\mathbb{R}^{n}$ \n",
    "$v^{T}$\n",
    "= $\\begin{align}\n",
    " \\begin{pmatrix}\n",
    "        {v_{1}} \\\\\n",
    "        \\vdots \\\\\n",
    "        {v_{n}}\n",
    "    \\end{pmatrix}\n",
    "\\end{align}$\n",
    "$u$ = $\\begin{align}\n",
    " \\begin{pmatrix}\n",
    "        {u_{1}}& \\dots {u_{n}} \\\\\n",
    "    \\end{pmatrix}\n",
    "\\end{align}$\n",
    "\n",
    "$v^{T}u$ = \n",
    "$\\begin{align}\n",
    " \\begin{pmatrix}\n",
    "        {v_{1}u_{1}}& \\dots {v_{n}u_{n}} \\\\\n",
    "    \\end{pmatrix}\n",
    "\\end{align}$\n",
    "\n",
    "$v$ = $\\begin{align}\n",
    " \\begin{pmatrix}\n",
    "        {u_{1}}& \\dots {u_{n}} \\\\\n",
    "    \\end{pmatrix}\n",
    "\\end{align}$\n",
    "$u^{T}$ = \n",
    " $\\begin{align}\n",
    " \\begin{pmatrix}\n",
    "        {u_{1}} \\\\\n",
    "        \\vdots \\\\\n",
    "        {u_{n}}\n",
    "    \\end{pmatrix}\n",
    "\\end{align}$\n",
    "\n",
    "and $vu^{T}$ = \n",
    "$\\begin{align}\n",
    " \\begin{pmatrix}\n",
    "        {v_{1}u_{1}}& \\dots {v_{n}u_{n}} \\\\\n",
    "    \\end{pmatrix}\n",
    "\\end{align}$ As we see their corresponding results are the same therefore $v^{T}u = vu^{T}$"
   ]
  },
  {
   "cell_type": "markdown",
   "metadata": {},
   "source": [
    "Prove that $(AB)^{T} = B^{T}A^{T}$ for each pair of matrices $A, B \\in \\mathbb{R}^{n \\times m}$"
   ]
  },
  {
   "cell_type": "markdown",
   "metadata": {},
   "source": [
    "#### Proved:\n",
    "$AB_{i,j} = \\sum_{k=1}^{n} a_{i, k} b_{k,j}$.                                              \n",
    "$(AB)^T_{i,j} = \\sum_{k=1}^{n} a_{j, k} b_{k,i} = AB_{j,i}$ and \n",
    "$(B^{T}A^{T})_{i,j} = \\sum_{k=1}^{n} B^{T}_{i, k} A^{T}_{k,j} = \\sum_{k=1}^{n}b_{k,i} a_{j, k}$. From all of these calculations it can be proven that $(AB)^T = B^T A^T$"
   ]
  }
 ],
 "metadata": {
  "kernelspec": {
   "display_name": "Python 3",
   "language": "python",
   "name": "python3"
  },
  "language_info": {
   "codemirror_mode": {
    "name": "ipython",
    "version": 3
   },
   "file_extension": ".py",
   "mimetype": "text/x-python",
   "name": "python",
   "nbconvert_exporter": "python",
   "pygments_lexer": "ipython3",
   "version": "3.7.2"
  }
 },
 "nbformat": 4,
 "nbformat_minor": 2
}
