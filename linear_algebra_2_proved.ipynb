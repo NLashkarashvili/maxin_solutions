{
  "nbformat": 4,
  "nbformat_minor": 0,
  "metadata": {
    "kernelspec": {
      "display_name": "Python 3",
      "language": "python",
      "name": "python3"
    },
    "language_info": {
      "codemirror_mode": {
        "name": "ipython",
        "version": 3
      },
      "file_extension": ".py",
      "mimetype": "text/x-python",
      "name": "python",
      "nbconvert_exporter": "python",
      "pygments_lexer": "ipython3",
      "version": "3.7.2"
    },
    "colab": {
      "name": "linear_algebra-2-proved.ipynb",
      "provenance": [],
      "include_colab_link": true
    }
  },
  "cells": [
    {
      "cell_type": "markdown",
      "metadata": {
        "id": "view-in-github",
        "colab_type": "text"
      },
      "source": [
        "<a href=\"https://colab.research.google.com/github/NLashkarashvili/maxin_solutions/blob/master/linear_algebra_2_proved.ipynb\" target=\"_parent\"><img src=\"https://colab.research.google.com/assets/colab-badge.svg\" alt=\"Open In Colab\"/></a>"
      ]
    },
    {
      "cell_type": "markdown",
      "metadata": {
        "id": "ASnqpVtR5OIy",
        "colab_type": "text"
      },
      "source": [
        "#### AUTHOR Nineli Lashkarashvili"
      ]
    },
    {
      "cell_type": "code",
      "metadata": {
        "id": "liHmUOSo5OI3",
        "colab_type": "code",
        "colab": {}
      },
      "source": [
        "%load_ext autoreload\n",
        "%autoreload 2\n",
        "\n",
        "%matplotlib inline"
      ],
      "execution_count": 0,
      "outputs": []
    },
    {
      "cell_type": "markdown",
      "metadata": {
        "id": "EkDfv9Ti5OI-",
        "colab_type": "text"
      },
      "source": [
        "## Basic setup"
      ]
    },
    {
      "cell_type": "markdown",
      "metadata": {
        "id": "pdq61eo05OJA",
        "colab_type": "text"
      },
      "source": [
        "Create anaconda environment\n",
        "<br>\n",
        "```bash\n",
        "conda create -n ml python=3.7.4 jupyter\n",
        "```\n",
        "Install fastai library\n",
        "<br>\n",
        "```bash\n",
        "conda install -c pytorch -c fastai fastai\n",
        "```"
      ]
    },
    {
      "cell_type": "markdown",
      "metadata": {
        "id": "1DBtNW125OJC",
        "colab_type": "text"
      },
      "source": [
        "# Linear spaces"
      ]
    },
    {
      "cell_type": "markdown",
      "metadata": {
        "id": "W7I1h16T5OJE",
        "colab_type": "text"
      },
      "source": [
        "#### Prove that:\n",
        "For every linear function $f:V \\to U$ between vector spaces $V$ and $U$ on the real numbers, every sequence of vectors $v_1, v_2, \\dots v_m \\in V$ and every scalars $a_1, a_2, \\dots, a_m \\in \\mathbb{R}$:\n",
        "<br>\n",
        "$$f(a_1v_1 + a_2v_2 + \\dots + a_mv_m) = a_1f(v_1) + a_2f(v_2) + \\dots + a_mf(v_m)$$"
      ]
    },
    {
      "cell_type": "markdown",
      "metadata": {
        "id": "Yzv1mFfa5OJF",
        "colab_type": "text"
      },
      "source": [
        ""
      ]
    },
    {
      "cell_type": "markdown",
      "metadata": {
        "id": "z8Ntbrd35OJH",
        "colab_type": "text"
      },
      "source": [
        "#### Proved\n",
        "- We know that $f(u + v) = f(u) + f(v)$ and $f(au) = a(fu)$. Therefore $f(a_1v_1 + a_2v_2 + \\dots + a_mv_m) = f(a_1v_1) + f(a_2v_2) + \\dots + f(a_mv_m) = a_1(fv_1) + a_2f(v_2) + \\dots + a_mf(v_m)$. (რდგ)"
      ]
    }
  ]
}