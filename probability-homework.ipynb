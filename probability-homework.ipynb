{
 "cells": [
  {
   "cell_type": "markdown",
   "metadata": {},
   "source": [
    "#### AUTHOR Nineli Lashkarashvili"
   ]
  },
  {
   "cell_type": "code",
   "execution_count": null,
   "metadata": {},
   "outputs": [],
   "source": [
    "%load_ext autoreload\n",
    "%autoreload 2\n",
    "\n",
    "%matplotlib inline"
   ]
  },
  {
   "cell_type": "markdown",
   "metadata": {},
   "source": [
    "## Basic setup"
   ]
  },
  {
   "cell_type": "markdown",
   "metadata": {},
   "source": [
    "Create anaconda environment\n",
    "<br>\n",
    "```bash\n",
    "conda create -n ml python=3.7.4 jupyter\n",
    "```\n",
    "Install fastai library\n",
    "<br>\n",
    "```bash\n",
    "conda install -c pytorch -c fastai fastai\n",
    "```"
   ]
  },
  {
   "cell_type": "markdown",
   "metadata": {},
   "source": [
    "# Sigma-algebras"
   ]
  },
  {
   "cell_type": "markdown",
   "metadata": {},
   "source": [
    "#### Prove that:\n",
    "Composition of mesurable functions is a mesurable function"
   ]
  },
  {
   "cell_type": "markdown",
   "metadata": {},
   "source": [
    "#### Proved \n",
    "- Suppose we have two measurable function on measurable spaces: $f: X \\to Y, g: Y \\to Z$ We want to prove that for $g \\circ f X \\to Z$ we have measurable function. Let's take some subset S from Z. Using individual measurability of $f$ and $g$ if $S \\in Z$ then $g^{-1}(S) \\in Y$ $ \\to (g \\circ f)^{-1} (S) = f^{-1}(g^{-1}(S) \\in X$ "
   ]
  },
  {
   "cell_type": "markdown",
   "metadata": {},
   "source": [
    "## Mesure"
   ]
  },
  {
   "cell_type": "markdown",
   "metadata": {},
   "source": [
    "#### Prove the following mesure properties:\n",
    "- if $A \\subset B$ then $\\mu(A) \\le \\mu(B)$\n",
    "<br>\n",
    "Proof: $(B - A) \\cup (A \\cap B) = (B - A) \\cup A = B$ and $(B - A) \\cap (A \\cap B) = \\emptyset$ so $\\mu((B - A) \\cup (A \\cap B)) = \\mu(B - A) + \\mu(A \\cap B) = \\mu(B - A) + \\mu(A) = \\mu(B)$ so $\\mu(A) \\le \\mu(B)$\n",
    "- I guess you already provided proof."
   ]
  },
  {
   "cell_type": "markdown",
   "metadata": {},
   "source": [
    "## Probability"
   ]
  },
  {
   "cell_type": "markdown",
   "metadata": {},
   "source": [
    "#### Prove that:\n",
    "For probability mesure $P$ and events $A, B, C \\subset \\Omega$\n",
    "- $P(A \\cup B) = P(A) + P(B) - P(A \\cap B)$"
   ]
  },
  {
   "cell_type": "markdown",
   "metadata": {},
   "source": [
    "#### Proved\n",
    "- $\\Omega = A \\cup A^` = B \\cup B^`;  B \\cap B = B;   B \\cap B` = \\emptyset; A \\cup \\emptyset = A; P(A \\cap B^`) = P(A) - P(A \\cap B)$ I will use all these rules bellow  \n",
    "- $A \\cup B = (A \\cup B) \\cap (B \\cup B^`) = ((A \\cup B) \\cap B) \\cup ((A \\cup B)\\cap B^`) = ((A \\cap B) \\cup (B \\cap B)) \\cup ((A \\cap B^`) \\cup (B \\cap B^`)) = B^` \\cup (A \\cap B) = (A \\cap B^`) \\cup (B \\cap (A \\cup A^`)) = (A \\cap B^`) \\cup (B \\cap A^`) \\cup (A \\cap B)$\n",
    "- $P(A \\cup B) = P(A \\cap B^`) + P(B \\cap A^`) + P(A \\cap B) = P(A) - P(A \\cap B) + P(B) - P(A \\cap B) + P(A \\cap B) = P(A) + P(B) - P(A \\cap B)$"
   ]
  },
  {
   "cell_type": "markdown",
   "metadata": {},
   "source": [
    "## Random variable"
   ]
  },
  {
   "cell_type": "markdown",
   "metadata": {},
   "source": [
    "#### Prove that:\n",
    "$$\n",
    "\\sigma^2 = \\operatorname{E}[X^2] - (\\operatorname{E}[X])^2\n",
    "$$\n",
    "Assuming that expectation exists\n",
    "<br>\n",
    "Denoted by $\\sigma^2$\n",
    "<br>"
   ]
  },
  {
   "cell_type": "markdown",
   "metadata": {},
   "source": [
    "#### Proved\n",
    "We know that $E[X] = \\mu$ and $E[aX + b] = aE[X] + b$ I will use these rules bellow.\n",
    "- $\\sigma^2  = E[(X - \\mu)^2] = E[(X^2 - X\\mu + \\mu^2)] = E[X^2 - \\mu^2] = E[X^2] - \\mu^2 = E[X^2] - (E[X])^2$"
   ]
  }
 ],
 "metadata": {
  "kernelspec": {
   "display_name": "Python 3",
   "language": "python",
   "name": "python3"
  },
  "language_info": {
   "codemirror_mode": {
    "name": "ipython",
    "version": 3
   },
   "file_extension": ".py",
   "mimetype": "text/x-python",
   "name": "python",
   "nbconvert_exporter": "python",
   "pygments_lexer": "ipython3",
   "version": "3.7.2"
  }
 },
 "nbformat": 4,
 "nbformat_minor": 4
}
